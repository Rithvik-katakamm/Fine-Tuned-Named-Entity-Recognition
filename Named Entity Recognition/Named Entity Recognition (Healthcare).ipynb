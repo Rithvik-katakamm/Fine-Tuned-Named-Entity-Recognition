{
 "cells": [
  {
   "cell_type": "markdown",
   "metadata": {},
   "source": [
    "# Fine-Tuned Named Entity Recognition "
   ]
  },
  {
   "cell_type": "markdown",
   "metadata": {},
   "source": [
    "Business Problem: Organizations processes a high volume of lab reports and EHRs daily, but manually extracting critical disease information from these unstructured documents is inefficient and prone to errors. This hampers timely clinical decision-making and workflow integration. An automated NER system for disease extraction would significantly enhance accuracy, speed, and overall operational efficiency."
   ]
  },
  {
   "cell_type": "markdown",
   "metadata": {},
   "source": [
    "Proposed Solution:\n",
    "Fine-tune a ClinicalBERT-based NER model on a curated dataset to automatically extract disease entities from lab reports and EHRs. Enhance the process through hyperparameter tuning with Optuna, early stopping to prevent overfitting, and comprehensive experiment tracking with MLflow to ensure optimal performance and integration into existing workflows."
   ]
  },
  {
   "cell_type": "markdown",
   "metadata": {},
   "source": [
    "## Loading the data "
   ]
  },
  {
   "cell_type": "code",
   "execution_count": null,
   "metadata": {},
   "outputs": [],
   "source": [
    "import torch\n",
    "import mlflow\n",
    "from datasets import load_dataset\n",
    "from transformers import AutoTokenizer\n",
    "import torch\n",
    "from transformers import AutoModelForTokenClassification, TrainingArguments, Trainer, EarlyStoppingCallback\n",
    "import matplotlib.pyplot as plt\n",
    "import numpy as np\n",
    "from seqeval.metrics import precision_score, recall_score, f1_score, classification_report\n",
    "import optuna\n",
    "from transformers import Trainer"
   ]
  },
  {
   "cell_type": "code",
   "execution_count": 2,
   "metadata": {},
   "outputs": [
    {
     "name": "stdout",
     "output_type": "stream",
     "text": [
      "MPS Available: True\n"
     ]
    }
   ],
   "source": [
    "#Checking for GPU availability becasue we will need it for this project  \n",
    "mps_available = torch.backends.mps.is_available()\n",
    "print(\"MPS Available:\", mps_available)"
   ]
  },
  {
   "cell_type": "code",
   "execution_count": 3,
   "metadata": {},
   "outputs": [
    {
     "name": "stdout",
     "output_type": "stream",
     "text": [
      "MLflow run started!\n"
     ]
    }
   ],
   "source": [
    "# Starting an MLflow run to track our progress \n",
    "mlflow.start_run(run_name=\"NER_FineTuning_i2b2\")\n",
    "print(\"MLflow run started!\")"
   ]
  },
  {
   "cell_type": "code",
   "execution_count": 4,
   "metadata": {},
   "outputs": [
    {
     "name": "stdout",
     "output_type": "stream",
     "text": [
      "Dataset splits: DatasetDict({\n",
      "    train: Dataset({\n",
      "        features: ['id', 'tokens', 'ner_tags'],\n",
      "        num_rows: 5433\n",
      "    })\n",
      "    validation: Dataset({\n",
      "        features: ['id', 'tokens', 'ner_tags'],\n",
      "        num_rows: 924\n",
      "    })\n",
      "    test: Dataset({\n",
      "        features: ['id', 'tokens', 'ner_tags'],\n",
      "        num_rows: 941\n",
      "    })\n",
      "})\n",
      "Sample from training split: {'id': '0', 'tokens': ['Identification', 'of', 'APC2', ',', 'a', 'homologue', 'of', 'the', 'adenomatous', 'polyposis', 'coli', 'tumour', 'suppressor', '.'], 'ner_tags': [0, 0, 0, 0, 0, 0, 0, 0, 1, 2, 2, 2, 0, 0]}\n"
     ]
    }
   ],
   "source": [
    "# Load the NCBI Disease dataset\n",
    "dataset = load_dataset(\"ncbi_disease\")\n",
    "\n",
    "# Inspect the dataset structure\n",
    "print(\"Dataset splits:\", dataset)\n",
    "print(\"Sample from training split:\", dataset[\"train\"][0])\n"
   ]
  },
  {
   "cell_type": "markdown",
   "metadata": {},
   "source": [
    "# Data Preprocessing "
   ]
  },
  {
   "cell_type": "code",
   "execution_count": null,
   "metadata": {},
   "outputs": [
    {
     "name": "stdout",
     "output_type": "stream",
     "text": [
      "Tokenized dataset sample:\n",
      "{'id': '0', 'tokens': ['Identification', 'of', 'APC2', ',', 'a', 'homologue', 'of', 'the', 'adenomatous', 'polyposis', 'coli', 'tumour', 'suppressor', '.'], 'ner_tags': [0, 0, 0, 0, 0, 0, 0, 0, 1, 2, 2, 2, 0, 0], 'input_ids': [101, 9117, 1104, 170, 1643, 1665, 1477, 117, 170, 16358, 3702, 12733, 1104, 1103, 8050, 26601, 21943, 2285, 185, 23415, 5674, 4863, 1884, 2646, 189, 27226, 17203, 1766, 119, 102, 0, 0, 0, 0, 0, 0, 0, 0, 0, 0, 0, 0, 0, 0, 0, 0, 0, 0, 0, 0, 0, 0, 0, 0, 0, 0, 0, 0, 0, 0, 0, 0, 0, 0, 0, 0, 0, 0, 0, 0, 0, 0, 0, 0, 0, 0, 0, 0, 0, 0, 0, 0, 0, 0, 0, 0, 0, 0, 0, 0, 0, 0, 0, 0, 0, 0, 0, 0, 0, 0, 0, 0, 0, 0, 0, 0, 0, 0, 0, 0, 0, 0, 0, 0, 0, 0, 0, 0, 0, 0, 0, 0, 0, 0, 0, 0, 0, 0], 'token_type_ids': [0, 0, 0, 0, 0, 0, 0, 0, 0, 0, 0, 0, 0, 0, 0, 0, 0, 0, 0, 0, 0, 0, 0, 0, 0, 0, 0, 0, 0, 0, 0, 0, 0, 0, 0, 0, 0, 0, 0, 0, 0, 0, 0, 0, 0, 0, 0, 0, 0, 0, 0, 0, 0, 0, 0, 0, 0, 0, 0, 0, 0, 0, 0, 0, 0, 0, 0, 0, 0, 0, 0, 0, 0, 0, 0, 0, 0, 0, 0, 0, 0, 0, 0, 0, 0, 0, 0, 0, 0, 0, 0, 0, 0, 0, 0, 0, 0, 0, 0, 0, 0, 0, 0, 0, 0, 0, 0, 0, 0, 0, 0, 0, 0, 0, 0, 0, 0, 0, 0, 0, 0, 0, 0, 0, 0, 0, 0, 0], 'attention_mask': [1, 1, 1, 1, 1, 1, 1, 1, 1, 1, 1, 1, 1, 1, 1, 1, 1, 1, 1, 1, 1, 1, 1, 1, 1, 1, 1, 1, 1, 1, 0, 0, 0, 0, 0, 0, 0, 0, 0, 0, 0, 0, 0, 0, 0, 0, 0, 0, 0, 0, 0, 0, 0, 0, 0, 0, 0, 0, 0, 0, 0, 0, 0, 0, 0, 0, 0, 0, 0, 0, 0, 0, 0, 0, 0, 0, 0, 0, 0, 0, 0, 0, 0, 0, 0, 0, 0, 0, 0, 0, 0, 0, 0, 0, 0, 0, 0, 0, 0, 0, 0, 0, 0, 0, 0, 0, 0, 0, 0, 0, 0, 0, 0, 0, 0, 0, 0, 0, 0, 0, 0, 0, 0, 0, 0, 0, 0, 0], 'labels': [-100, 0, 0, 0, 0, 0, 0, 0, 0, 0, 0, 0, 0, 0, 1, 1, 1, 1, 2, 2, 2, 2, 2, 2, 2, 2, 0, 0, 0, -100, -100, -100, -100, -100, -100, -100, -100, -100, -100, -100, -100, -100, -100, -100, -100, -100, -100, -100, -100, -100, -100, -100, -100, -100, -100, -100, -100, -100, -100, -100, -100, -100, -100, -100, -100, -100, -100, -100, -100, -100, -100, -100, -100, -100, -100, -100, -100, -100, -100, -100, -100, -100, -100, -100, -100, -100, -100, -100, -100, -100, -100, -100, -100, -100, -100, -100, -100, -100, -100, -100, -100, -100, -100, -100, -100, -100, -100, -100, -100, -100, -100, -100, -100, -100, -100, -100, -100, -100, -100, -100, -100, -100, -100, -100, -100, -100, -100, -100]}\n"
     ]
    }
   ],
   "source": [
    "# Load the ClinicalBERT tokenizer \n",
    "model_name = \"emilyalsentzer/Bio_ClinicalBERT\"\n",
    "tokenizer = AutoTokenizer.from_pretrained(model_name)\n",
    "\n",
    "def tokenize_and_align_labels(examples):\n",
    "    \n",
    "    # Tokenize the tokens (each example's \"tokens\" field is a list of words)\n",
    "    tokenized_inputs = tokenizer(\n",
    "        examples[\"tokens\"],\n",
    "        padding=\"max_length\",\n",
    "        max_length=128,\n",
    "        truncation=True,\n",
    "        is_split_into_words=True\n",
    "    )\n",
    "    \n",
    "    labels = []\n",
    "    for i, ner_tags in enumerate(examples[\"ner_tags\"]):\n",
    "        word_ids = tokenized_inputs.word_ids(batch_index=i)\n",
    "        label_ids = []\n",
    "        for word_idx in word_ids:\n",
    "            if word_idx is None:\n",
    "                label_ids.append(-100)  # Special value to ignore in loss computation\n",
    "            else:\n",
    "                label_ids.append(ner_tags[word_idx])\n",
    "        labels.append(label_ids)\n",
    "    \n",
    "    tokenized_inputs[\"labels\"] = labels\n",
    "    return tokenized_inputs\n",
    "\n",
    "# Apply the tokenization and label alignment to the dataset splits\n",
    "tokenized_datasets = dataset.map(tokenize_and_align_labels, batched=True)\n",
    "print(\"Tokenized dataset sample:\")\n",
    "print(tokenized_datasets[\"train\"][0])"
   ]
  },
  {
   "cell_type": "code",
   "execution_count": 6,
   "metadata": {},
   "outputs": [
    {
     "name": "stdout",
     "output_type": "stream",
     "text": [
      "Logged tokenization parameters to MLflow.\n"
     ]
    }
   ],
   "source": [
    "# Logging the tokenizer in MLflow \n",
    "mlflow.log_param(\"tokenizer_model\", model_name)\n",
    "print(\"Logged tokenization parameters to MLflow.\")"
   ]
  },
  {
   "cell_type": "code",
   "execution_count": 7,
   "metadata": {},
   "outputs": [
    {
     "name": "stdout",
     "output_type": "stream",
     "text": [
      "Unique labels in dataset: {0, 1, 2, -100}\n",
      "ClassLabel(names=['O', 'B-Disease', 'I-Disease'], id=None)\n"
     ]
    }
   ],
   "source": [
    "# Check unique labels in the dataset\n",
    "unique_labels = set(label for example in tokenized_datasets[\"train\"][\"labels\"] for label in example)\n",
    "print(\"Unique labels in dataset:\", unique_labels)\n",
    "\n",
    "# Check label mapping\n",
    "label_mapping = dataset[\"train\"].features[\"ner_tags\"].feature\n",
    "print(label_mapping)"
   ]
  },
  {
   "cell_type": "code",
   "execution_count": 8,
   "metadata": {},
   "outputs": [
    {
     "name": "stdout",
     "output_type": "stream",
     "text": [
      "Number of labels detected: 3\n"
     ]
    }
   ],
   "source": [
    "num_labels = len(dataset[\"train\"].features[\"ner_tags\"].feature.names)\n",
    "print(f\"Number of labels detected: {num_labels}\")"
   ]
  },
  {
   "cell_type": "code",
   "execution_count": 9,
   "metadata": {},
   "outputs": [
    {
     "name": "stderr",
     "output_type": "stream",
     "text": [
      "Some weights of BertForTokenClassification were not initialized from the model checkpoint at emilyalsentzer/Bio_ClinicalBERT and are newly initialized: ['classifier.bias', 'classifier.weight']\n",
      "You should probably TRAIN this model on a down-stream task to be able to use it for predictions and inference.\n"
     ]
    },
    {
     "name": "stdout",
     "output_type": "stream",
     "text": [
      "Model is set to device: mps\n"
     ]
    }
   ],
   "source": [
    "# Load the ClinicalBERT model with a token classification head\n",
    "model = AutoModelForTokenClassification.from_pretrained(\n",
    "    model_name,\n",
    "    num_labels=num_labels\n",
    ")\n",
    "\n",
    "# Set device to MPS (Apple GPU)\n",
    "device = torch.device(\"mps\" if torch.backends.mps.is_available() else \"cpu\")\n",
    "model.to(device)\n",
    "print(f\"Model is set to device: {device}\")\n"
   ]
  },
  {
   "cell_type": "markdown",
   "metadata": {},
   "source": [
    "# ML Modeling "
   ]
  },
  {
   "cell_type": "code",
   "execution_count": 10,
   "metadata": {},
   "outputs": [],
   "source": [
    "early_stopping = EarlyStoppingCallback(\n",
    "    early_stopping_patience=1,      # Stop training if no improvement after 1 evaluation\n",
    "    early_stopping_threshold=0.0,# Minimum improvement needed to reset patience\n",
    ")"
   ]
  },
  {
   "cell_type": "markdown",
   "metadata": {},
   "source": [
    "An earlier version overfitted so let's use an early stop parameter \n"
   ]
  },
  {
   "cell_type": "code",
   "execution_count": 11,
   "metadata": {},
   "outputs": [
    {
     "name": "stdout",
     "output_type": "stream",
     "text": [
      "Model and Trainer are set up for full-scale fine-tuning\n"
     ]
    }
   ],
   "source": [
    "\n",
    "# Define training arguments for a full-scale project\n",
    "training_args = TrainingArguments(\n",
    "    output_dir=\"./results_earlystop\",\n",
    "    eval_strategy=\"epoch\", # Evaluate every epoch\n",
    "    save_strategy= \"epoch\",\n",
    "    per_device_train_batch_size=8,\n",
    "    per_device_eval_batch_size=8,\n",
    "    num_train_epochs=5,                    # Give room for early stopping\n",
    "    weight_decay=0.01,\n",
    "    logging_dir=\"./logs_earlystop\",                  \n",
    "    save_total_limit=1,\n",
    "    # Required for EarlyStoppingCallback\n",
    "    load_best_model_at_end=True,\n",
    "    metric_for_best_model=\"eval_loss\",\n",
    "    greater_is_better=False , # Lower eval_loss = better\n",
    "    report_to=\"none\"\n",
    ")\n",
    "\n",
    "# Log training hyperparameters to MLflow\n",
    "mlflow.log_param(\"num_labels\", num_labels)\n",
    "mlflow.log_param(\"num_train_epochs\", training_args.num_train_epochs)\n",
    "mlflow.log_param(\"batch_size\", training_args.per_device_train_batch_size)\n",
    "mlflow.log_param(\"weight_decay\", training_args.weight_decay)\n",
    "\n",
    "# Initialize the Trainer object using the validation set for evaluation\n",
    "trainer_earlystop = Trainer(\n",
    "    model=model,\n",
    "    args=training_args,\n",
    "    train_dataset=tokenized_datasets[\"train\"],\n",
    "    eval_dataset=tokenized_datasets[\"validation\"],\n",
    "    tokenizer=tokenizer,\n",
    "    callbacks=[early_stopping]\n",
    ")\n",
    "\n",
    "print(\"Model and Trainer are set up for full-scale fine-tuning\")\n"
   ]
  },
  {
   "cell_type": "code",
   "execution_count": 12,
   "metadata": {},
   "outputs": [
    {
     "name": "stdout",
     "output_type": "stream",
     "text": [
      "Starting fine-tuning...\n"
     ]
    },
    {
     "data": {
      "application/vnd.jupyter.widget-view+json": {
       "model_id": "c54eb9e5039a4a46b269d65ecf0b6f1e",
       "version_major": 2,
       "version_minor": 0
      },
      "text/plain": [
       "  0%|          | 0/3400 [00:00<?, ?it/s]"
      ]
     },
     "metadata": {},
     "output_type": "display_data"
    },
    {
     "name": "stdout",
     "output_type": "stream",
     "text": [
      "{'loss': 0.1208, 'grad_norm': 2.2838492393493652, 'learning_rate': 4.2647058823529415e-05, 'epoch': 0.74}\n"
     ]
    },
    {
     "data": {
      "application/vnd.jupyter.widget-view+json": {
       "model_id": "9c8f96bf50e64110844c85bb5f58e24c",
       "version_major": 2,
       "version_minor": 0
      },
      "text/plain": [
       "  0%|          | 0/116 [00:00<?, ?it/s]"
      ]
     },
     "metadata": {},
     "output_type": "display_data"
    },
    {
     "name": "stdout",
     "output_type": "stream",
     "text": [
      "{'eval_loss': 0.077816441655159, 'eval_runtime': 7.0102, 'eval_samples_per_second': 131.808, 'eval_steps_per_second': 16.547, 'epoch': 1.0}\n",
      "{'loss': 0.0409, 'grad_norm': 1.9044270515441895, 'learning_rate': 3.529411764705883e-05, 'epoch': 1.47}\n"
     ]
    },
    {
     "data": {
      "application/vnd.jupyter.widget-view+json": {
       "model_id": "303fe435a8f340c3b718a05ec9ba077c",
       "version_major": 2,
       "version_minor": 0
      },
      "text/plain": [
       "  0%|          | 0/116 [00:00<?, ?it/s]"
      ]
     },
     "metadata": {},
     "output_type": "display_data"
    },
    {
     "name": "stdout",
     "output_type": "stream",
     "text": [
      "{'eval_loss': 0.06490051746368408, 'eval_runtime': 6.9073, 'eval_samples_per_second': 133.772, 'eval_steps_per_second': 16.794, 'epoch': 2.0}\n",
      "{'loss': 0.0269, 'grad_norm': 0.07769875228404999, 'learning_rate': 2.7941176470588236e-05, 'epoch': 2.21}\n",
      "{'loss': 0.0118, 'grad_norm': 0.16269870102405548, 'learning_rate': 2.058823529411765e-05, 'epoch': 2.94}\n"
     ]
    },
    {
     "data": {
      "application/vnd.jupyter.widget-view+json": {
       "model_id": "248477d6349041768c514cda25820b0f",
       "version_major": 2,
       "version_minor": 0
      },
      "text/plain": [
       "  0%|          | 0/116 [00:00<?, ?it/s]"
      ]
     },
     "metadata": {},
     "output_type": "display_data"
    },
    {
     "name": "stdout",
     "output_type": "stream",
     "text": [
      "{'eval_loss': 0.08051025122404099, 'eval_runtime': 7.0577, 'eval_samples_per_second': 130.921, 'eval_steps_per_second': 16.436, 'epoch': 3.0}\n",
      "{'train_runtime': 543.7271, 'train_samples_per_second': 49.961, 'train_steps_per_second': 6.253, 'train_loss': 0.049484982473008775, 'epoch': 3.0}\n",
      "Training complete.\n",
      "Training loss: 0.049484982473008775\n",
      "Evaluating model on validation set...\n"
     ]
    },
    {
     "data": {
      "application/vnd.jupyter.widget-view+json": {
       "model_id": "8e52d724128d4c80ae422b6201e4e606",
       "version_major": 2,
       "version_minor": 0
      },
      "text/plain": [
       "  0%|          | 0/116 [00:00<?, ?it/s]"
      ]
     },
     "metadata": {},
     "output_type": "display_data"
    },
    {
     "name": "stdout",
     "output_type": "stream",
     "text": [
      "Validation evaluation metrics:\n",
      "{'eval_loss': 0.06490051746368408, 'eval_runtime': 7.0156, 'eval_samples_per_second': 131.706, 'eval_steps_per_second': 16.535, 'epoch': 3.0}\n"
     ]
    }
   ],
   "source": [
    "# Fine-tune the model\n",
    "print(\"Starting fine-tuning...\")\n",
    "train_output = trainer_earlystop.train()\n",
    "print(\"Training complete.\")\n",
    "\n",
    "# Log training loss\n",
    "mlflow.log_metric(\"train_loss\", train_output.training_loss)\n",
    "print(f\"Training loss: {train_output.training_loss}\")\n",
    "\n",
    "# Evaluate the model on the validation set\n",
    "print(\"Evaluating model on validation set...\")\n",
    "eval_metrics = trainer_earlystop.evaluate(eval_dataset=tokenized_datasets[\"validation\"])\n",
    "print(\"Validation evaluation metrics:\")\n",
    "print(eval_metrics)\n",
    "\n",
    "# Log evaluation metrics to MLflow\n",
    "for metric_name, metric_value in eval_metrics.items():\n",
    "    mlflow.log_metric(metric_name, metric_value)"
   ]
  },
  {
   "cell_type": "code",
   "execution_count": 13,
   "metadata": {},
   "outputs": [
    {
     "data": {
      "text/plain": [
       "[{'loss': 0.1208,\n",
       "  'grad_norm': 2.2838492393493652,\n",
       "  'learning_rate': 4.2647058823529415e-05,\n",
       "  'epoch': 0.7352941176470589,\n",
       "  'step': 500},\n",
       " {'eval_loss': 0.077816441655159,\n",
       "  'eval_runtime': 7.0102,\n",
       "  'eval_samples_per_second': 131.808,\n",
       "  'eval_steps_per_second': 16.547,\n",
       "  'epoch': 1.0,\n",
       "  'step': 680},\n",
       " {'loss': 0.0409,\n",
       "  'grad_norm': 1.9044270515441895,\n",
       "  'learning_rate': 3.529411764705883e-05,\n",
       "  'epoch': 1.4705882352941178,\n",
       "  'step': 1000},\n",
       " {'eval_loss': 0.06490051746368408,\n",
       "  'eval_runtime': 6.9073,\n",
       "  'eval_samples_per_second': 133.772,\n",
       "  'eval_steps_per_second': 16.794,\n",
       "  'epoch': 2.0,\n",
       "  'step': 1360},\n",
       " {'loss': 0.0269,\n",
       "  'grad_norm': 0.07769875228404999,\n",
       "  'learning_rate': 2.7941176470588236e-05,\n",
       "  'epoch': 2.2058823529411766,\n",
       "  'step': 1500},\n",
       " {'loss': 0.0118,\n",
       "  'grad_norm': 0.16269870102405548,\n",
       "  'learning_rate': 2.058823529411765e-05,\n",
       "  'epoch': 2.9411764705882355,\n",
       "  'step': 2000},\n",
       " {'eval_loss': 0.08051025122404099,\n",
       "  'eval_runtime': 7.0577,\n",
       "  'eval_samples_per_second': 130.921,\n",
       "  'eval_steps_per_second': 16.436,\n",
       "  'epoch': 3.0,\n",
       "  'step': 2040},\n",
       " {'train_runtime': 543.7271,\n",
       "  'train_samples_per_second': 49.961,\n",
       "  'train_steps_per_second': 6.253,\n",
       "  'total_flos': 1064728585569024.0,\n",
       "  'train_loss': 0.049484982473008775,\n",
       "  'epoch': 3.0,\n",
       "  'step': 2040},\n",
       " {'eval_loss': 0.06490051746368408,\n",
       "  'eval_runtime': 7.0156,\n",
       "  'eval_samples_per_second': 131.706,\n",
       "  'eval_steps_per_second': 16.535,\n",
       "  'epoch': 3.0,\n",
       "  'step': 2040}]"
      ]
     },
     "execution_count": 13,
     "metadata": {},
     "output_type": "execute_result"
    }
   ],
   "source": [
    "trainer_earlystop.state.log_history  # Show loss over all epochs"
   ]
  },
  {
   "cell_type": "markdown",
   "metadata": {},
   "source": [
    "# Evaluation"
   ]
  },
  {
   "cell_type": "code",
   "execution_count": 15,
   "metadata": {},
   "outputs": [
    {
     "data": {
      "image/png": "[encoded data removed]",
      "text/plain": [
       "<Figure size 800x500 with 1 Axes>"
      ]
     },
     "metadata": {},
     "output_type": "display_data"
    }
   ],
   "source": [
    "# Extract loss and epochs from trainer's log history\n",
    "train_loss = []\n",
    "eval_loss = []\n",
    "epochs = []\n",
    "\n",
    "for log in trainer_earlystop.state.log_history:\n",
    "    if \"loss\" in log:  # Training loss\n",
    "        train_loss.append(log[\"loss\"])\n",
    "        epochs.append(log[\"epoch\"])\n",
    "    if \"eval_loss\" in log:  # Validation loss\n",
    "        eval_loss.append(log[\"eval_loss\"])\n",
    "\n",
    "# Plot the loss curves\n",
    "plt.figure(figsize=(8, 5))\n",
    "plt.plot(epochs, train_loss, label=\"Training Loss\", marker=\"o\")\n",
    "plt.plot(epochs, eval_loss, label=\"Validation Loss\", marker=\"s\")\n",
    "\n",
    "plt.xlabel(\"Epochs\")\n",
    "plt.ylabel(\"Loss\")\n",
    "plt.title(\"Training vs Validation Loss\")\n",
    "plt.legend()\n",
    "plt.grid(True)\n",
    "plt.show()\n"
   ]
  },
  {
   "cell_type": "code",
   "execution_count": 17,
   "metadata": {},
   "outputs": [
    {
     "data": {
      "application/vnd.jupyter.widget-view+json": {
       "model_id": "a3006183a88c453cb2e22ac134094625",
       "version_major": 2,
       "version_minor": 0
      },
      "text/plain": [
       "  0%|          | 0/118 [00:00<?, ?it/s]"
      ]
     },
     "metadata": {},
     "output_type": "display_data"
    },
    {
     "name": "stdout",
     "output_type": "stream",
     "text": [
      "Final test set evaluation: {'eval_loss': 0.08246713876724243, 'eval_runtime': 7.5237, 'eval_samples_per_second': 125.071, 'eval_steps_per_second': 15.684, 'epoch': 3.0}\n"
     ]
    }
   ],
   "source": [
    "final_metrics = trainer_earlystop.evaluate(eval_dataset=tokenized_datasets[\"test\"])\n",
    "print(\"Final test set evaluation:\", final_metrics)"
   ]
  },
  {
   "cell_type": "markdown",
   "metadata": {},
   "source": [
    "## Tuning the hyperparameters (trail)\n",
    "\n"
   ]
  },
  {
   "cell_type": "code",
   "execution_count": null,
   "metadata": {},
   "outputs": [],
   "source": [
    "label_list = tokenized_datasets[\"train\"].features[\"ner_tags\"].feature.names\n",
    "\n",
    "def align_predictions(predictions, label_ids):\n",
    "    \"\"\"\n",
    "    Aligns model predictions with true labels, ignoring subword pieces \n",
    "    that have label ID = -100.\n",
    "    \"\"\"\n",
    "    preds = np.argmax(predictions, axis=2)\n",
    "    \n",
    "    batch_size, seq_len = preds.shape\n",
    "    out_pred_list = []\n",
    "    out_label_list = []\n",
    "    \n",
    "    for i in range(batch_size):\n",
    "        pred_ids = preds[i]\n",
    "        label_ids_i = label_ids[i]\n",
    "        \n",
    "        # Collect the actual labels/predictions for each valid token\n",
    "        pred_label_list = []\n",
    "        true_label_list = []\n",
    "        for j in range(seq_len):\n",
    "            # -100 is a special token label for subword pieces or padding\n",
    "            if label_ids_i[j] == -100:\n",
    "                continue\n",
    "            pred_label_list.append(label_list[pred_ids[j]])\n",
    "            true_label_list.append(label_list[label_ids_i[j]])\n",
    "            \n",
    "        out_pred_list.append(pred_label_list)\n",
    "        out_label_list.append(true_label_list)\n",
    "    \n",
    "    return out_pred_list, out_label_list\n",
    "\n",
    "def compute_metrics(eval_pred):\n",
    "    \"\"\"\n",
    "    Called by the Trainer to compute precision, recall, and F1 using seqeval.\n",
    "    \"\"\"\n",
    "    predictions, labels = eval_pred\n",
    "    preds_list, refs_list = align_predictions(predictions, labels)\n",
    "    \n",
    "    precision = precision_score(refs_list, preds_list)\n",
    "    recall = recall_score(refs_list, preds_list)\n",
    "    f1 = f1_score(refs_list, preds_list)\n",
    "    \n",
    "    return {\n",
    "        \"precision\": precision,\n",
    "        \"recall\": recall,\n",
    "        \"f1\": f1\n",
    "    }\n"
   ]
  },
  {
   "cell_type": "code",
   "execution_count": 21,
   "metadata": {},
   "outputs": [
    {
     "data": {
      "application/vnd.jupyter.widget-view+json": {
       "model_id": "08e4cf03f6c1428d89e57e02f7e6d658",
       "version_major": 2,
       "version_minor": 0
      },
      "text/plain": [
       "  0%|          | 0/116 [00:00<?, ?it/s]"
      ]
     },
     "metadata": {},
     "output_type": "display_data"
    },
    {
     "name": "stdout",
     "output_type": "stream",
     "text": [
      "              precision    recall  f1-score   support\n",
      "\n",
      "     Disease       0.83      0.87      0.85      1679\n",
      "\n",
      "   micro avg       0.83      0.87      0.85      1679\n",
      "   macro avg       0.83      0.87      0.85      1679\n",
      "weighted avg       0.83      0.87      0.85      1679\n",
      "\n"
     ]
    }
   ],
   "source": [
    "predictions, labels, _ = trainer_earlystop.predict(tokenized_datasets[\"validation\"])\n",
    "preds_list, refs_list = align_predictions(predictions, labels)\n",
    "\n",
    "report = classification_report(refs_list, preds_list)\n",
    "print(report)\n"
   ]
  },
  {
   "cell_type": "code",
   "execution_count": null,
   "metadata": {},
   "outputs": [
    {
     "name": "stderr",
     "output_type": "stream",
     "text": [
      "Some weights of BertForTokenClassification were not initialized from the model checkpoint at emilyalsentzer/Bio_ClinicalBERT and are newly initialized: ['classifier.bias', 'classifier.weight']\n",
      "You should probably TRAIN this model on a down-stream task to be able to use it for predictions and inference.\n",
      "[I 2025-02-27 20:47:34,573] A new study created in memory with name: no-name-8f064abe-f3ad-47af-aeb4-d83ff916796b\n",
      "Some weights of BertForTokenClassification were not initialized from the model checkpoint at emilyalsentzer/Bio_ClinicalBERT and are newly initialized: ['classifier.bias', 'classifier.weight']\n",
      "You should probably TRAIN this model on a down-stream task to be able to use it for predictions and inference.\n"
     ]
    },
    {
     "data": {
      "application/vnd.jupyter.widget-view+json": {
       "model_id": "415da5ffe8b34ea7be0e5177d8e7490a",
       "version_major": 2,
       "version_minor": 0
      },
      "text/plain": [
       "  0%|          | 0/1700 [00:00<?, ?it/s]"
      ]
     },
     "metadata": {},
     "output_type": "display_data"
    },
    {
     "data": {
      "application/vnd.jupyter.widget-view+json": {
       "model_id": "0938349eb5634421b6c3d5bdb2c8e295",
       "version_major": 2,
       "version_minor": 0
      },
      "text/plain": [
       "  0%|          | 0/116 [00:00<?, ?it/s]"
      ]
     },
     "metadata": {},
     "output_type": "display_data"
    },
    {
     "name": "stdout",
     "output_type": "stream",
     "text": [
      "{'eval_loss': 0.06615070253610611, 'eval_precision': 0.8172043010752689, 'eval_recall': 0.8147706968433591, 'eval_f1': 0.8159856844616762, 'eval_runtime': 7.7786, 'eval_samples_per_second': 118.787, 'eval_steps_per_second': 14.913, 'epoch': 1.0}\n",
      "{'loss': 0.1016, 'grad_norm': 1.4521913528442383, 'learning_rate': 2.034860848600034e-05, 'epoch': 1.47}\n"
     ]
    },
    {
     "data": {
      "application/vnd.jupyter.widget-view+json": {
       "model_id": "970d5203c6f44ff4b18b1fcd547c9e29",
       "version_major": 2,
       "version_minor": 0
      },
      "text/plain": [
       "  0%|          | 0/116 [00:00<?, ?it/s]"
      ]
     },
     "metadata": {},
     "output_type": "display_data"
    },
    {
     "name": "stdout",
     "output_type": "stream",
     "text": [
      "{'eval_loss': 0.06498333066701889, 'eval_precision': 0.8316151202749141, 'eval_recall': 0.8648004764740918, 'eval_f1': 0.8478832116788323, 'eval_runtime': 7.7899, 'eval_samples_per_second': 118.615, 'eval_steps_per_second': 14.891, 'epoch': 2.0}\n",
      "{'loss': 0.0215, 'grad_norm': 0.15320830047130585, 'learning_rate': 1.187002161683353e-05, 'epoch': 2.94}\n"
     ]
    },
    {
     "data": {
      "application/vnd.jupyter.widget-view+json": {
       "model_id": "1ebe8b803dd64ccd9f42f5b3605604f2",
       "version_major": 2,
       "version_minor": 0
      },
      "text/plain": [
       "  0%|          | 0/116 [00:00<?, ?it/s]"
      ]
     },
     "metadata": {},
     "output_type": "display_data"
    },
    {
     "name": "stdout",
     "output_type": "stream",
     "text": [
      "{'eval_loss': 0.07892968505620956, 'eval_precision': 0.8516746411483254, 'eval_recall': 0.8481238832638476, 'eval_f1': 0.8498955535660997, 'eval_runtime': 290.7252, 'eval_samples_per_second': 3.178, 'eval_steps_per_second': 0.399, 'epoch': 3.0}\n"
     ]
    },
    {
     "data": {
      "application/vnd.jupyter.widget-view+json": {
       "model_id": "4c927adf63594a3a88b0a7fdee145df2",
       "version_major": 2,
       "version_minor": 0
      },
      "text/plain": [
       "  0%|          | 0/116 [00:00<?, ?it/s]"
      ]
     },
     "metadata": {},
     "output_type": "display_data"
    },
    {
     "name": "stdout",
     "output_type": "stream",
     "text": [
      "{'eval_loss': 0.09059405326843262, 'eval_precision': 0.8489250435793143, 'eval_recall': 0.8701608100059559, 'eval_f1': 0.8594117647058823, 'eval_runtime': 7.6741, 'eval_samples_per_second': 120.405, 'eval_steps_per_second': 15.116, 'epoch': 4.0}\n",
      "{'loss': 0.006, 'grad_norm': 0.08838754892349243, 'learning_rate': 3.391434747666723e-06, 'epoch': 4.41}\n"
     ]
    },
    {
     "data": {
      "application/vnd.jupyter.widget-view+json": {
       "model_id": "471ff1c56efc49bfbd124addae710f6a",
       "version_major": 2,
       "version_minor": 0
      },
      "text/plain": [
       "  0%|          | 0/116 [00:00<?, ?it/s]"
      ]
     },
     "metadata": {},
     "output_type": "display_data"
    },
    {
     "name": "stdout",
     "output_type": "stream",
     "text": [
      "{'eval_loss': 0.09739010781049728, 'eval_precision': 0.8486265341905318, 'eval_recall': 0.8648004764740918, 'eval_f1': 0.8566371681415929, 'eval_runtime': 7.7143, 'eval_samples_per_second': 119.778, 'eval_steps_per_second': 15.037, 'epoch': 5.0}\n"
     ]
    },
    {
     "name": "stderr",
     "output_type": "stream",
     "text": [
      "[I 2025-02-27 22:26:25,622] Trial 0 finished with value: 2.5700641788062164 and parameters: {'learning_rate': 2.8827195355167146e-05, 'per_device_train_batch_size': 16, 'weight_decay': 0.028725152477129354}. Best is trial 0 with value: 2.5700641788062164.\n"
     ]
    },
    {
     "name": "stdout",
     "output_type": "stream",
     "text": [
      "{'train_runtime': 5930.5362, 'train_samples_per_second': 4.581, 'train_steps_per_second': 0.287, 'train_loss': 0.038353532061857334, 'epoch': 5.0}\n"
     ]
    },
    {
     "name": "stderr",
     "output_type": "stream",
     "text": [
      "Some weights of BertForTokenClassification were not initialized from the model checkpoint at emilyalsentzer/Bio_ClinicalBERT and are newly initialized: ['classifier.bias', 'classifier.weight']\n",
      "You should probably TRAIN this model on a down-stream task to be able to use it for predictions and inference.\n"
     ]
    },
    {
     "data": {
      "application/vnd.jupyter.widget-view+json": {
       "model_id": "61f99090338f4ea0b14bb8b9b5c79e85",
       "version_major": 2,
       "version_minor": 0
      },
      "text/plain": [
       "  0%|          | 0/850 [00:00<?, ?it/s]"
      ]
     },
     "metadata": {},
     "output_type": "display_data"
    },
    {
     "data": {
      "application/vnd.jupyter.widget-view+json": {
       "model_id": "b56631f7e5c14373a6b652cbed33e1e1",
       "version_major": 2,
       "version_minor": 0
      },
      "text/plain": [
       "  0%|          | 0/116 [00:00<?, ?it/s]"
      ]
     },
     "metadata": {},
     "output_type": "display_data"
    },
    {
     "name": "stdout",
     "output_type": "stream",
     "text": [
      "{'eval_loss': 0.07044104486703873, 'eval_precision': 0.7455716586151369, 'eval_recall': 0.8272781417510423, 'eval_f1': 0.7843026538678712, 'eval_runtime': 7.8414, 'eval_samples_per_second': 117.836, 'eval_steps_per_second': 14.793, 'epoch': 1.0}\n"
     ]
    },
    {
     "data": {
      "application/vnd.jupyter.widget-view+json": {
       "model_id": "a726915a86ba42328238775337833e08",
       "version_major": 2,
       "version_minor": 0
      },
      "text/plain": [
       "  0%|          | 0/116 [00:00<?, ?it/s]"
      ]
     },
     "metadata": {},
     "output_type": "display_data"
    },
    {
     "name": "stdout",
     "output_type": "stream",
     "text": [
      "{'eval_loss': 0.06319992989301682, 'eval_precision': 0.805365296803653, 'eval_recall': 0.840381179273377, 'eval_f1': 0.8225007286505392, 'eval_runtime': 7.6791, 'eval_samples_per_second': 120.327, 'eval_steps_per_second': 15.106, 'epoch': 2.0}\n",
      "{'loss': 0.0792, 'grad_norm': 1.1682366132736206, 'learning_rate': 1.0616166208958189e-05, 'epoch': 2.94}\n"
     ]
    },
    {
     "data": {
      "application/vnd.jupyter.widget-view+json": {
       "model_id": "b6257355ac5f4dd9b8fb943a2f85bd9c",
       "version_major": 2,
       "version_minor": 0
      },
      "text/plain": [
       "  0%|          | 0/116 [00:00<?, ?it/s]"
      ]
     },
     "metadata": {},
     "output_type": "display_data"
    },
    {
     "name": "stdout",
     "output_type": "stream",
     "text": [
      "{'eval_loss': 0.07026535272598267, 'eval_precision': 0.8409225310467179, 'eval_recall': 0.8469326980345444, 'eval_f1': 0.8439169139465875, 'eval_runtime': 18.0894, 'eval_samples_per_second': 51.08, 'eval_steps_per_second': 6.413, 'epoch': 3.0}\n"
     ]
    },
    {
     "data": {
      "application/vnd.jupyter.widget-view+json": {
       "model_id": "6324ff8de892439c82a50df0d5fb8e18",
       "version_major": 2,
       "version_minor": 0
      },
      "text/plain": [
       "  0%|          | 0/116 [00:00<?, ?it/s]"
      ]
     },
     "metadata": {},
     "output_type": "display_data"
    },
    {
     "name": "stdout",
     "output_type": "stream",
     "text": [
      "{'eval_loss': 0.07913970202207565, 'eval_precision': 0.839766081871345, 'eval_recall': 0.8552709946396665, 'eval_f1': 0.8474476246680438, 'eval_runtime': 7.6334, 'eval_samples_per_second': 121.047, 'eval_steps_per_second': 15.196, 'epoch': 4.0}\n"
     ]
    },
    {
     "data": {
      "application/vnd.jupyter.widget-view+json": {
       "model_id": "82a7abe4bb3a48358023917498620528",
       "version_major": 2,
       "version_minor": 0
      },
      "text/plain": [
       "  0%|          | 0/116 [00:00<?, ?it/s]"
      ]
     },
     "metadata": {},
     "output_type": "display_data"
    },
    {
     "name": "stdout",
     "output_type": "stream",
     "text": [
      "{'eval_loss': 0.08275308459997177, 'eval_precision': 0.8221722003376477, 'eval_recall': 0.8701608100059559, 'eval_f1': 0.8454861111111112, 'eval_runtime': 7.6656, 'eval_samples_per_second': 120.538, 'eval_steps_per_second': 15.132, 'epoch': 5.0}\n"
     ]
    },
    {
     "name": "stderr",
     "output_type": "stream",
     "text": [
      "[I 2025-02-27 22:49:27,156] Trial 1 finished with value: 2.5378191214547146 and parameters: {'learning_rate': 2.5782117936041316e-05, 'per_device_train_batch_size': 32, 'weight_decay': 0.23511941931774577}. Best is trial 1 with value: 2.5378191214547146.\n"
     ]
    },
    {
     "name": "stdout",
     "output_type": "stream",
     "text": [
      "{'train_runtime': 1380.0471, 'train_samples_per_second': 19.684, 'train_steps_per_second': 0.616, 'train_loss': 0.0511501407623291, 'epoch': 5.0}\n"
     ]
    },
    {
     "name": "stderr",
     "output_type": "stream",
     "text": [
      "Some weights of BertForTokenClassification were not initialized from the model checkpoint at emilyalsentzer/Bio_ClinicalBERT and are newly initialized: ['classifier.bias', 'classifier.weight']\n",
      "You should probably TRAIN this model on a down-stream task to be able to use it for predictions and inference.\n"
     ]
    },
    {
     "data": {
      "application/vnd.jupyter.widget-view+json": {
       "model_id": "efd2576a16f5449fb3d49fb9a1a85b0e",
       "version_major": 2,
       "version_minor": 0
      },
      "text/plain": [
       "  0%|          | 0/3400 [00:00<?, ?it/s]"
      ]
     },
     "metadata": {},
     "output_type": "display_data"
    },
    {
     "name": "stdout",
     "output_type": "stream",
     "text": [
      "{'loss': 0.1682, 'grad_norm': 0.5984926819801331, 'learning_rate': 1.0918186980861271e-05, 'epoch': 0.74}\n"
     ]
    },
    {
     "data": {
      "application/vnd.jupyter.widget-view+json": {
       "model_id": "bdea5de839814b14b8755fea549cd615",
       "version_major": 2,
       "version_minor": 0
      },
      "text/plain": [
       "  0%|          | 0/116 [00:00<?, ?it/s]"
      ]
     },
     "metadata": {},
     "output_type": "display_data"
    },
    {
     "name": "stdout",
     "output_type": "stream",
     "text": [
      "{'eval_loss': 0.06730649620294571, 'eval_precision': 0.7850309510410804, 'eval_recall': 0.8308516974389517, 'eval_f1': 0.8072916666666666, 'eval_runtime': 9.677, 'eval_samples_per_second': 95.484, 'eval_steps_per_second': 11.987, 'epoch': 1.0}\n",
      "{'loss': 0.0563, 'grad_norm': 3.0045418739318848, 'learning_rate': 9.035740949678294e-06, 'epoch': 1.47}\n"
     ]
    },
    {
     "data": {
      "application/vnd.jupyter.widget-view+json": {
       "model_id": "6028f142ec414d0ea9a9df43345d8ba4",
       "version_major": 2,
       "version_minor": 0
      },
      "text/plain": [
       "  0%|          | 0/116 [00:00<?, ?it/s]"
      ]
     },
     "metadata": {},
     "output_type": "display_data"
    },
    {
     "name": "stdout",
     "output_type": "stream",
     "text": [
      "{'eval_loss': 0.0712394043803215, 'eval_precision': 0.8227272727272728, 'eval_recall': 0.8624181060154854, 'eval_f1': 0.8421052631578947, 'eval_runtime': 7.68, 'eval_samples_per_second': 120.312, 'eval_steps_per_second': 15.104, 'epoch': 2.0}\n",
      "{'loss': 0.0378, 'grad_norm': 4.451746940612793, 'learning_rate': 7.153294918495315e-06, 'epoch': 2.21}\n",
      "{'loss': 0.027, 'grad_norm': 4.572720527648926, 'learning_rate': 5.270848887312338e-06, 'epoch': 2.94}\n"
     ]
    },
    {
     "data": {
      "application/vnd.jupyter.widget-view+json": {
       "model_id": "31e87779dd9444f2ba320d453d98f1af",
       "version_major": 2,
       "version_minor": 0
      },
      "text/plain": [
       "  0%|          | 0/116 [00:00<?, ?it/s]"
      ]
     },
     "metadata": {},
     "output_type": "display_data"
    },
    {
     "name": "stdout",
     "output_type": "stream",
     "text": [
      "{'eval_loss': 0.07438791543245316, 'eval_precision': 0.855688622754491, 'eval_recall': 0.8511018463371054, 'eval_f1': 0.8533890713645863, 'eval_runtime': 20.4852, 'eval_samples_per_second': 45.106, 'eval_steps_per_second': 5.663, 'epoch': 3.0}\n",
      "{'loss': 0.0147, 'grad_norm': 0.00880899466574192, 'learning_rate': 3.38840285612936e-06, 'epoch': 3.68}\n"
     ]
    },
    {
     "data": {
      "application/vnd.jupyter.widget-view+json": {
       "model_id": "3b9cef7f57154860b29d4c3ebadb9343",
       "version_major": 2,
       "version_minor": 0
      },
      "text/plain": [
       "  0%|          | 0/116 [00:00<?, ?it/s]"
      ]
     },
     "metadata": {},
     "output_type": "display_data"
    },
    {
     "name": "stdout",
     "output_type": "stream",
     "text": [
      "{'eval_loss': 0.08565828949213028, 'eval_precision': 0.8537015276145711, 'eval_recall': 0.8653960690887433, 'eval_f1': 0.8595090209997043, 'eval_runtime': 7.6857, 'eval_samples_per_second': 120.224, 'eval_steps_per_second': 15.093, 'epoch': 4.0}\n",
      "{'loss': 0.012, 'grad_norm': 4.276855945587158, 'learning_rate': 1.5059568249463822e-06, 'epoch': 4.41}\n"
     ]
    },
    {
     "data": {
      "application/vnd.jupyter.widget-view+json": {
       "model_id": "80317283aa5d42948d6bcf336c76acd8",
       "version_major": 2,
       "version_minor": 0
      },
      "text/plain": [
       "  0%|          | 0/116 [00:00<?, ?it/s]"
      ]
     },
     "metadata": {},
     "output_type": "display_data"
    },
    {
     "name": "stdout",
     "output_type": "stream",
     "text": [
      "{'eval_loss': 0.09095169603824615, 'eval_precision': 0.8458864426419467, 'eval_recall': 0.8695652173913043, 'eval_f1': 0.8575624082232012, 'eval_runtime': 7.7043, 'eval_samples_per_second': 119.934, 'eval_steps_per_second': 15.057, 'epoch': 5.0}\n"
     ]
    },
    {
     "name": "stderr",
     "output_type": "stream",
     "text": [
      "[I 2025-02-27 23:47:52,154] Trial 2 finished with value: 2.573014068256452 and parameters: {'learning_rate': 1.2800633012044249e-05, 'per_device_train_batch_size': 8, 'weight_decay': 0.17700541892077018}. Best is trial 1 with value: 2.5378191214547146.\n"
     ]
    },
    {
     "name": "stdout",
     "output_type": "stream",
     "text": [
      "{'train_runtime': 3503.859, 'train_samples_per_second': 7.753, 'train_steps_per_second': 0.97, 'train_loss': 0.04750889147029203, 'epoch': 5.0}\n"
     ]
    },
    {
     "name": "stderr",
     "output_type": "stream",
     "text": [
      "Some weights of BertForTokenClassification were not initialized from the model checkpoint at emilyalsentzer/Bio_ClinicalBERT and are newly initialized: ['classifier.bias', 'classifier.weight']\n",
      "You should probably TRAIN this model on a down-stream task to be able to use it for predictions and inference.\n"
     ]
    },
    {
     "data": {
      "application/vnd.jupyter.widget-view+json": {
       "model_id": "73db6e73b1a04b688ff22de1bd45d7d1",
       "version_major": 2,
       "version_minor": 0
      },
      "text/plain": [
       "  0%|          | 0/850 [00:00<?, ?it/s]"
      ]
     },
     "metadata": {},
     "output_type": "display_data"
    },
    {
     "data": {
      "application/vnd.jupyter.widget-view+json": {
       "model_id": "9d524527bdbd4223b62a99d0f101f1e1",
       "version_major": 2,
       "version_minor": 0
      },
      "text/plain": [
       "  0%|          | 0/116 [00:00<?, ?it/s]"
      ]
     },
     "metadata": {},
     "output_type": "display_data"
    },
    {
     "name": "stdout",
     "output_type": "stream",
     "text": [
      "{'eval_loss': 0.07317893952131271, 'eval_precision': 0.732739420935412, 'eval_recall': 0.7837998808814771, 'eval_f1': 0.757410071942446, 'eval_runtime': 9.5661, 'eval_samples_per_second': 96.591, 'eval_steps_per_second': 12.126, 'epoch': 1.0}\n"
     ]
    },
    {
     "data": {
      "application/vnd.jupyter.widget-view+json": {
       "model_id": "d4db2756c2a34cab8cf69910710c7bf5",
       "version_major": 2,
       "version_minor": 0
      },
      "text/plain": [
       "  0%|          | 0/116 [00:00<?, ?it/s]"
      ]
     },
     "metadata": {},
     "output_type": "display_data"
    },
    {
     "name": "stdout",
     "output_type": "stream",
     "text": [
      "{'eval_loss': 0.06472127139568329, 'eval_precision': 0.7844682048396173, 'eval_recall': 0.8302561048243002, 'eval_f1': 0.806712962962963, 'eval_runtime': 7.6975, 'eval_samples_per_second': 120.039, 'eval_steps_per_second': 15.07, 'epoch': 2.0}\n",
      "{'loss': 0.0949, 'grad_norm': 1.7799471616744995, 'learning_rate': 7.249614868120951e-06, 'epoch': 2.94}\n"
     ]
    },
    {
     "data": {
      "application/vnd.jupyter.widget-view+json": {
       "model_id": "098a495eeb19405db122dc09e9002850",
       "version_major": 2,
       "version_minor": 0
      },
      "text/plain": [
       "  0%|          | 0/116 [00:00<?, ?it/s]"
      ]
     },
     "metadata": {},
     "output_type": "display_data"
    },
    {
     "name": "stdout",
     "output_type": "stream",
     "text": [
      "{'eval_loss': 0.0673893615603447, 'eval_precision': 0.8345111896348646, 'eval_recall': 0.8439547349612865, 'eval_f1': 0.8392063962096535, 'eval_runtime': 7.6897, 'eval_samples_per_second': 120.16, 'eval_steps_per_second': 15.085, 'epoch': 3.0}\n"
     ]
    },
    {
     "data": {
      "application/vnd.jupyter.widget-view+json": {
       "model_id": "53965429f14547e99d1d338e3bd1079a",
       "version_major": 2,
       "version_minor": 0
      },
      "text/plain": [
       "  0%|          | 0/116 [00:00<?, ?it/s]"
      ]
     },
     "metadata": {},
     "output_type": "display_data"
    },
    {
     "name": "stdout",
     "output_type": "stream",
     "text": [
      "{'eval_loss': 0.07437929511070251, 'eval_precision': 0.839811542991755, 'eval_recall': 0.8493150684931506, 'eval_f1': 0.8445365709209356, 'eval_runtime': 220.6718, 'eval_samples_per_second': 4.187, 'eval_steps_per_second': 0.526, 'epoch': 4.0}\n"
     ]
    },
    {
     "data": {
      "application/vnd.jupyter.widget-view+json": {
       "model_id": "bfb82adc656b4e699baed64c866b71a0",
       "version_major": 2,
       "version_minor": 0
      },
      "text/plain": [
       "  0%|          | 0/116 [00:00<?, ?it/s]"
      ]
     },
     "metadata": {},
     "output_type": "display_data"
    },
    {
     "name": "stdout",
     "output_type": "stream",
     "text": [
      "{'eval_loss': 0.07536394894123077, 'eval_precision': 0.8227633069082673, 'eval_recall': 0.8653960690887433, 'eval_f1': 0.8435413642960813, 'eval_runtime': 245.052, 'eval_samples_per_second': 3.771, 'eval_steps_per_second': 0.473, 'epoch': 5.0}\n"
     ]
    },
    {
     "name": "stderr",
     "output_type": "stream",
     "text": [
      "[I 2025-02-28 00:32:45,212] Trial 3 finished with value: 2.531700740293092 and parameters: {'learning_rate': 1.760620753686517e-05, 'per_device_train_batch_size': 32, 'weight_decay': 0.19699215948964255}. Best is trial 3 with value: 2.531700740293092.\n"
     ]
    },
    {
     "name": "stdout",
     "output_type": "stream",
     "text": [
      "{'train_runtime': 2692.0346, 'train_samples_per_second': 10.091, 'train_steps_per_second': 0.316, 'train_loss': 0.06371749990126666, 'epoch': 5.0}\n"
     ]
    },
    {
     "name": "stderr",
     "output_type": "stream",
     "text": [
      "Some weights of BertForTokenClassification were not initialized from the model checkpoint at emilyalsentzer/Bio_ClinicalBERT and are newly initialized: ['classifier.bias', 'classifier.weight']\n",
      "You should probably TRAIN this model on a down-stream task to be able to use it for predictions and inference.\n"
     ]
    },
    {
     "data": {
      "application/vnd.jupyter.widget-view+json": {
       "model_id": "31ff1281f4d04866b2138fbd90ee1441",
       "version_major": 2,
       "version_minor": 0
      },
      "text/plain": [
       "  0%|          | 0/3400 [00:00<?, ?it/s]"
      ]
     },
     "metadata": {},
     "output_type": "display_data"
    },
    {
     "name": "stdout",
     "output_type": "stream",
     "text": [
      "{'loss': 0.1257, 'grad_norm': 0.30684584379196167, 'learning_rate': 3.0218860913647827e-05, 'epoch': 0.74}\n"
     ]
    },
    {
     "data": {
      "application/vnd.jupyter.widget-view+json": {
       "model_id": "274b877c5313490191c2798dfd3f5321",
       "version_major": 2,
       "version_minor": 0
      },
      "text/plain": [
       "  0%|          | 0/116 [00:00<?, ?it/s]"
      ]
     },
     "metadata": {},
     "output_type": "display_data"
    },
    {
     "name": "stdout",
     "output_type": "stream",
     "text": [
      "{'eval_loss': 0.06951556354761124, 'eval_precision': 0.8008874098724348, 'eval_recall': 0.8600357355568791, 'eval_f1': 0.829408385985066, 'eval_runtime': 14.2247, 'eval_samples_per_second': 64.958, 'eval_steps_per_second': 8.155, 'epoch': 1.0}\n",
      "{'loss': 0.0415, 'grad_norm': 1.956225037574768, 'learning_rate': 2.500871248026027e-05, 'epoch': 1.47}\n"
     ]
    },
    {
     "data": {
      "application/vnd.jupyter.widget-view+json": {
       "model_id": "66ce77acd086465e82d8e951c048502f",
       "version_major": 2,
       "version_minor": 0
      },
      "text/plain": [
       "  0%|          | 0/116 [00:00<?, ?it/s]"
      ]
     },
     "metadata": {},
     "output_type": "display_data"
    },
    {
     "name": "stdout",
     "output_type": "stream",
     "text": [
      "{'eval_loss': 0.06643712520599365, 'eval_precision': 0.8358800226372383, 'eval_recall': 0.8796902918403812, 'eval_f1': 0.857225769007545, 'eval_runtime': 561.0465, 'eval_samples_per_second': 1.647, 'eval_steps_per_second': 0.207, 'epoch': 2.0}\n",
      "{'loss': 0.026, 'grad_norm': 0.16093401610851288, 'learning_rate': 1.9798564046872715e-05, 'epoch': 2.21}\n",
      "{'loss': 0.013, 'grad_norm': 0.040554825216531754, 'learning_rate': 1.4588415613485157e-05, 'epoch': 2.94}\n"
     ]
    },
    {
     "data": {
      "application/vnd.jupyter.widget-view+json": {
       "model_id": "b9e48d8d85844c59ae4c9bd8e916a1b9",
       "version_major": 2,
       "version_minor": 0
      },
      "text/plain": [
       "  0%|          | 0/116 [00:00<?, ?it/s]"
      ]
     },
     "metadata": {},
     "output_type": "display_data"
    },
    {
     "name": "stdout",
     "output_type": "stream",
     "text": [
      "{'eval_loss': 0.08327718824148178, 'eval_precision': 0.8430094786729858, 'eval_recall': 0.847528290649196, 'eval_f1': 0.8452628452628452, 'eval_runtime': 7.6858, 'eval_samples_per_second': 120.221, 'eval_steps_per_second': 15.093, 'epoch': 3.0}\n",
      "{'loss': 0.0061, 'grad_norm': 0.0014870051527395844, 'learning_rate': 9.378267180097602e-06, 'epoch': 3.68}\n"
     ]
    },
    {
     "data": {
      "application/vnd.jupyter.widget-view+json": {
       "model_id": "17503fe7b95b4eafb13d06495856b6fa",
       "version_major": 2,
       "version_minor": 0
      },
      "text/plain": [
       "  0%|          | 0/116 [00:00<?, ?it/s]"
      ]
     },
     "metadata": {},
     "output_type": "display_data"
    },
    {
     "name": "stdout",
     "output_type": "stream",
     "text": [
      "{'eval_loss': 0.09810280054807663, 'eval_precision': 0.8456260720411664, 'eval_recall': 0.8808814770696843, 'eval_f1': 0.8628938156359393, 'eval_runtime': 7.8213, 'eval_samples_per_second': 118.139, 'eval_steps_per_second': 14.831, 'epoch': 4.0}\n",
      "{'loss': 0.0035, 'grad_norm': 6.654818058013916, 'learning_rate': 4.168118746710045e-06, 'epoch': 4.41}\n"
     ]
    },
    {
     "data": {
      "application/vnd.jupyter.widget-view+json": {
       "model_id": "b2c5d21209d144babbdea035f01aa70a",
       "version_major": 2,
       "version_minor": 0
      },
      "text/plain": [
       "  0%|          | 0/116 [00:00<?, ?it/s]"
      ]
     },
     "metadata": {},
     "output_type": "display_data"
    },
    {
     "name": "stdout",
     "output_type": "stream",
     "text": [
      "{'eval_loss': 0.10851959884166718, 'eval_precision': 0.8478760045924225, 'eval_recall': 0.8796902918403812, 'eval_f1': 0.8634902075416545, 'eval_runtime': 7.8011, 'eval_samples_per_second': 118.444, 'eval_steps_per_second': 14.87, 'epoch': 5.0}\n"
     ]
    },
    {
     "name": "stderr",
     "output_type": "stream",
     "text": [
      "[I 2025-02-28 01:40:53,974] Trial 4 finished with value: 2.591056503974458 and parameters: {'learning_rate': 3.542900934703538e-05, 'per_device_train_batch_size': 8, 'weight_decay': 0.030145947653600434}. Best is trial 3 with value: 2.531700740293092.\n"
     ]
    },
    {
     "name": "stdout",
     "output_type": "stream",
     "text": [
      "{'train_runtime': 4087.9057, 'train_samples_per_second': 6.645, 'train_steps_per_second': 0.832, 'train_loss': 0.03200999477330376, 'epoch': 5.0}\n"
     ]
    },
    {
     "name": "stderr",
     "output_type": "stream",
     "text": [
      "Some weights of BertForTokenClassification were not initialized from the model checkpoint at emilyalsentzer/Bio_ClinicalBERT and are newly initialized: ['classifier.bias', 'classifier.weight']\n",
      "You should probably TRAIN this model on a down-stream task to be able to use it for predictions and inference.\n"
     ]
    },
    {
     "data": {
      "application/vnd.jupyter.widget-view+json": {
       "model_id": "70440360ec9040149a6f13136fec5b5b",
       "version_major": 2,
       "version_minor": 0
      },
      "text/plain": [
       "  0%|          | 0/3400 [00:00<?, ?it/s]"
      ]
     },
     "metadata": {},
     "output_type": "display_data"
    },
    {
     "name": "stdout",
     "output_type": "stream",
     "text": [
      "{'loss': 0.1605, 'grad_norm': 0.528659999370575, 'learning_rate': 1.2566656133341649e-05, 'epoch': 0.74}\n"
     ]
    },
    {
     "data": {
      "application/vnd.jupyter.widget-view+json": {
       "model_id": "f11520b852fd416fb40d0577c0fb765c",
       "version_major": 2,
       "version_minor": 0
      },
      "text/plain": [
       "  0%|          | 0/116 [00:00<?, ?it/s]"
      ]
     },
     "metadata": {},
     "output_type": "display_data"
    },
    {
     "name": "stdout",
     "output_type": "stream",
     "text": [
      "{'eval_loss': 0.06672558933496475, 'eval_precision': 0.7920403587443946, 'eval_recall': 0.8415723645026801, 'eval_f1': 0.8160554432572913, 'eval_runtime': 7.7482, 'eval_samples_per_second': 119.253, 'eval_steps_per_second': 14.971, 'epoch': 1.0}\n",
      "{'loss': 0.053, 'grad_norm': 2.845906972885132, 'learning_rate': 1.0399991282765503e-05, 'epoch': 1.47}\n"
     ]
    },
    {
     "data": {
      "application/vnd.jupyter.widget-view+json": {
       "model_id": "afda8c544a604967b8edd8c63bc7be96",
       "version_major": 2,
       "version_minor": 0
      },
      "text/plain": [
       "  0%|          | 0/116 [00:00<?, ?it/s]"
      ]
     },
     "metadata": {},
     "output_type": "display_data"
    },
    {
     "name": "stdout",
     "output_type": "stream",
     "text": [
      "{'eval_loss': 0.07107449322938919, 'eval_precision': 0.8273299028016009, 'eval_recall': 0.8618225134008338, 'eval_f1': 0.8442240373395566, 'eval_runtime': 7.7784, 'eval_samples_per_second': 118.791, 'eval_steps_per_second': 14.913, 'epoch': 2.0}\n",
      "{'loss': 0.0348, 'grad_norm': 3.540623903274536, 'learning_rate': 8.233326432189357e-06, 'epoch': 2.21}\n",
      "{'loss': 0.0231, 'grad_norm': 2.048799753189087, 'learning_rate': 6.066661581613209e-06, 'epoch': 2.94}\n"
     ]
    },
    {
     "data": {
      "application/vnd.jupyter.widget-view+json": {
       "model_id": "7a00200120bf4b7bbdf8e3d191d77594",
       "version_major": 2,
       "version_minor": 0
      },
      "text/plain": [
       "  0%|          | 0/116 [00:00<?, ?it/s]"
      ]
     },
     "metadata": {},
     "output_type": "display_data"
    },
    {
     "name": "stdout",
     "output_type": "stream",
     "text": [
      "{'eval_loss': 0.07626258581876755, 'eval_precision': 0.8633615477629988, 'eval_recall': 0.8505062537224538, 'eval_f1': 0.8568856885688568, 'eval_runtime': 7.725, 'eval_samples_per_second': 119.612, 'eval_steps_per_second': 15.016, 'epoch': 3.0}\n",
      "{'loss': 0.0122, 'grad_norm': 0.008447899483144283, 'learning_rate': 3.899996731037064e-06, 'epoch': 3.68}\n"
     ]
    },
    {
     "data": {
      "application/vnd.jupyter.widget-view+json": {
       "model_id": "337ed81d62b4428a97101a9beb5834ca",
       "version_major": 2,
       "version_minor": 0
      },
      "text/plain": [
       "  0%|          | 0/116 [00:00<?, ?it/s]"
      ]
     },
     "metadata": {},
     "output_type": "display_data"
    },
    {
     "name": "stdout",
     "output_type": "stream",
     "text": [
      "{'eval_loss': 0.08925382047891617, 'eval_precision': 0.8547912992357437, 'eval_recall': 0.8659916617033949, 'eval_f1': 0.8603550295857988, 'eval_runtime': 7.7218, 'eval_samples_per_second': 119.661, 'eval_steps_per_second': 15.022, 'epoch': 4.0}\n",
      "{'loss': 0.0095, 'grad_norm': 6.074059963226318, 'learning_rate': 1.733331880460917e-06, 'epoch': 4.41}\n"
     ]
    },
    {
     "data": {
      "application/vnd.jupyter.widget-view+json": {
       "model_id": "6b724fbc387d4a9380c09eb84f5ae311",
       "version_major": 2,
       "version_minor": 0
      },
      "text/plain": [
       "  0%|          | 0/116 [00:00<?, ?it/s]"
      ]
     },
     "metadata": {},
     "output_type": "display_data"
    },
    {
     "name": "stdout",
     "output_type": "stream",
     "text": [
      "{'eval_loss': 0.09409289062023163, 'eval_precision': 0.8514219384793964, 'eval_recall': 0.8737343656938654, 'eval_f1': 0.8624338624338624, 'eval_runtime': 7.7715, 'eval_samples_per_second': 118.895, 'eval_steps_per_second': 14.926, 'epoch': 5.0}\n"
     ]
    },
    {
     "name": "stderr",
     "output_type": "stream",
     "text": [
      "[I 2025-02-28 01:56:07,544] Trial 5 finished with value: 2.587590166607124 and parameters: {'learning_rate': 1.4733320983917795e-05, 'per_device_train_batch_size': 8, 'weight_decay': 0.05853815884441146}. Best is trial 3 with value: 2.531700740293092.\n"
     ]
    },
    {
     "name": "stdout",
     "output_type": "stream",
     "text": [
      "{'train_runtime': 912.2753, 'train_samples_per_second': 29.777, 'train_steps_per_second': 3.727, 'train_loss': 0.043887468716677494, 'epoch': 5.0}\n"
     ]
    },
    {
     "name": "stderr",
     "output_type": "stream",
     "text": [
      "Some weights of BertForTokenClassification were not initialized from the model checkpoint at emilyalsentzer/Bio_ClinicalBERT and are newly initialized: ['classifier.bias', 'classifier.weight']\n",
      "You should probably TRAIN this model on a down-stream task to be able to use it for predictions and inference.\n"
     ]
    },
    {
     "data": {
      "application/vnd.jupyter.widget-view+json": {
       "model_id": "d098be3a6b5e4f5dad0dd1082168510c",
       "version_major": 2,
       "version_minor": 0
      },
      "text/plain": [
       "  0%|          | 0/1700 [00:00<?, ?it/s]"
      ]
     },
     "metadata": {},
     "output_type": "display_data"
    },
    {
     "data": {
      "application/vnd.jupyter.widget-view+json": {
       "model_id": "26f96dd867ed4c8ea2b56866dadbcf8f",
       "version_major": 2,
       "version_minor": 0
      },
      "text/plain": [
       "  0%|          | 0/116 [00:00<?, ?it/s]"
      ]
     },
     "metadata": {},
     "output_type": "display_data"
    },
    {
     "name": "stderr",
     "output_type": "stream",
     "text": [
      "[I 2025-02-28 01:58:35,038] Trial 6 pruned. \n"
     ]
    },
    {
     "name": "stdout",
     "output_type": "stream",
     "text": [
      "{'eval_loss': 0.06594984978437424, 'eval_precision': 0.8152109328579917, 'eval_recall': 0.8171530673019655, 'eval_f1': 0.8161808447352766, 'eval_runtime': 7.7641, 'eval_samples_per_second': 119.01, 'eval_steps_per_second': 14.941, 'epoch': 1.0}\n"
     ]
    },
    {
     "name": "stderr",
     "output_type": "stream",
     "text": [
      "Some weights of BertForTokenClassification were not initialized from the model checkpoint at emilyalsentzer/Bio_ClinicalBERT and are newly initialized: ['classifier.bias', 'classifier.weight']\n",
      "You should probably TRAIN this model on a down-stream task to be able to use it for predictions and inference.\n"
     ]
    },
    {
     "data": {
      "application/vnd.jupyter.widget-view+json": {
       "model_id": "6f5b0232c12d416fa480a863c2b463c5",
       "version_major": 2,
       "version_minor": 0
      },
      "text/plain": [
       "  0%|          | 0/1700 [00:00<?, ?it/s]"
      ]
     },
     "metadata": {},
     "output_type": "display_data"
    },
    {
     "data": {
      "application/vnd.jupyter.widget-view+json": {
       "model_id": "14588a8e377f4b639ebb7cbadb9fccef",
       "version_major": 2,
       "version_minor": 0
      },
      "text/plain": [
       "  0%|          | 0/116 [00:00<?, ?it/s]"
      ]
     },
     "metadata": {},
     "output_type": "display_data"
    },
    {
     "name": "stdout",
     "output_type": "stream",
     "text": [
      "{'eval_loss': 0.0688372328877449, 'eval_precision': 0.7840512223515715, 'eval_recall': 0.802263251935676, 'eval_f1': 0.7930526935531351, 'eval_runtime': 7.7699, 'eval_samples_per_second': 118.92, 'eval_steps_per_second': 14.929, 'epoch': 1.0}\n",
      "{'loss': 0.1286, 'grad_norm': 2.194828510284424, 'learning_rate': 1.053784296430219e-05, 'epoch': 1.47}\n"
     ]
    },
    {
     "data": {
      "application/vnd.jupyter.widget-view+json": {
       "model_id": "afb002250d3b4963bc09c9c54805638d",
       "version_major": 2,
       "version_minor": 0
      },
      "text/plain": [
       "  0%|          | 0/116 [00:00<?, ?it/s]"
      ]
     },
     "metadata": {},
     "output_type": "display_data"
    },
    {
     "name": "stdout",
     "output_type": "stream",
     "text": [
      "{'eval_loss': 0.06655013561248779, 'eval_precision': 0.8141950375072129, 'eval_recall': 0.840381179273377, 'eval_f1': 0.8270808909730363, 'eval_runtime': 7.7162, 'eval_samples_per_second': 119.748, 'eval_steps_per_second': 15.033, 'epoch': 2.0}\n",
      "{'loss': 0.0348, 'grad_norm': 1.0143510103225708, 'learning_rate': 6.14707506250961e-06, 'epoch': 2.94}\n"
     ]
    },
    {
     "data": {
      "application/vnd.jupyter.widget-view+json": {
       "model_id": "bdee944566a84f08816097926ba7964c",
       "version_major": 2,
       "version_minor": 0
      },
      "text/plain": [
       "  0%|          | 0/116 [00:00<?, ?it/s]"
      ]
     },
     "metadata": {},
     "output_type": "display_data"
    },
    {
     "name": "stdout",
     "output_type": "stream",
     "text": [
      "{'eval_loss': 0.0716480240225792, 'eval_precision': 0.8467933491686461, 'eval_recall': 0.8493150684931506, 'eval_f1': 0.848052334225394, 'eval_runtime': 7.7491, 'eval_samples_per_second': 119.24, 'eval_steps_per_second': 14.969, 'epoch': 3.0}\n"
     ]
    },
    {
     "data": {
      "application/vnd.jupyter.widget-view+json": {
       "model_id": "be850a9182e74f60a5a9b25e6e0ca9e1",
       "version_major": 2,
       "version_minor": 0
      },
      "text/plain": [
       "  0%|          | 0/116 [00:00<?, ?it/s]"
      ]
     },
     "metadata": {},
     "output_type": "display_data"
    },
    {
     "name": "stdout",
     "output_type": "stream",
     "text": [
      "{'eval_loss': 0.07937688380479813, 'eval_precision': 0.8401162790697675, 'eval_recall': 0.8606313281715307, 'eval_f1': 0.8502500735510444, 'eval_runtime': 7.7391, 'eval_samples_per_second': 119.393, 'eval_steps_per_second': 14.989, 'epoch': 4.0}\n",
      "{'loss': 0.0153, 'grad_norm': 0.6470628380775452, 'learning_rate': 1.7563071607170316e-06, 'epoch': 4.41}\n"
     ]
    },
    {
     "data": {
      "application/vnd.jupyter.widget-view+json": {
       "model_id": "5206a69bf8584cacac940ed13c9171b4",
       "version_major": 2,
       "version_minor": 0
      },
      "text/plain": [
       "  0%|          | 0/116 [00:00<?, ?it/s]"
      ]
     },
     "metadata": {},
     "output_type": "display_data"
    },
    {
     "name": "stdout",
     "output_type": "stream",
     "text": [
      "{'eval_loss': 0.08212998509407043, 'eval_precision': 0.8371014492753623, 'eval_recall': 0.8600357355568791, 'eval_f1': 0.8484136310223267, 'eval_runtime': 7.8087, 'eval_samples_per_second': 118.33, 'eval_steps_per_second': 14.855, 'epoch': 5.0}\n"
     ]
    },
    {
     "name": "stderr",
     "output_type": "stream",
     "text": [
      "[I 2025-02-28 02:10:59,595] Trial 7 finished with value: 2.5455508158545683 and parameters: {'learning_rate': 1.4928610866094769e-05, 'per_device_train_batch_size': 16, 'weight_decay': 0.09383827871268667}. Best is trial 3 with value: 2.531700740293092.\n"
     ]
    },
    {
     "name": "stdout",
     "output_type": "stream",
     "text": [
      "{'train_runtime': 743.8592, 'train_samples_per_second': 36.519, 'train_steps_per_second': 2.285, 'train_loss': 0.053803778816671935, 'epoch': 5.0}\n"
     ]
    },
    {
     "name": "stderr",
     "output_type": "stream",
     "text": [
      "Some weights of BertForTokenClassification were not initialized from the model checkpoint at emilyalsentzer/Bio_ClinicalBERT and are newly initialized: ['classifier.bias', 'classifier.weight']\n",
      "You should probably TRAIN this model on a down-stream task to be able to use it for predictions and inference.\n"
     ]
    },
    {
     "data": {
      "application/vnd.jupyter.widget-view+json": {
       "model_id": "d8ca7f09c7fb49049a278772a361a79f",
       "version_major": 2,
       "version_minor": 0
      },
      "text/plain": [
       "  0%|          | 0/850 [00:00<?, ?it/s]"
      ]
     },
     "metadata": {},
     "output_type": "display_data"
    },
    {
     "data": {
      "application/vnd.jupyter.widget-view+json": {
       "model_id": "683079728ebe423ba979b9b4fe64ee59",
       "version_major": 2,
       "version_minor": 0
      },
      "text/plain": [
       "  0%|          | 0/116 [00:00<?, ?it/s]"
      ]
     },
     "metadata": {},
     "output_type": "display_data"
    },
    {
     "name": "stderr",
     "output_type": "stream",
     "text": [
      "[I 2025-02-28 02:13:15,864] Trial 8 pruned. \n"
     ]
    },
    {
     "name": "stdout",
     "output_type": "stream",
     "text": [
      "{'eval_loss': 0.06617947667837143, 'eval_precision': 0.7777173913043478, 'eval_recall': 0.8522930315664086, 'eval_f1': 0.8132992327365729, 'eval_runtime': 7.7767, 'eval_samples_per_second': 118.817, 'eval_steps_per_second': 14.916, 'epoch': 1.0}\n"
     ]
    },
    {
     "name": "stderr",
     "output_type": "stream",
     "text": [
      "Some weights of BertForTokenClassification were not initialized from the model checkpoint at emilyalsentzer/Bio_ClinicalBERT and are newly initialized: ['classifier.bias', 'classifier.weight']\n",
      "You should probably TRAIN this model on a down-stream task to be able to use it for predictions and inference.\n"
     ]
    },
    {
     "data": {
      "application/vnd.jupyter.widget-view+json": {
       "model_id": "48083d0c2ba14a03a7bc13e0026177cc",
       "version_major": 2,
       "version_minor": 0
      },
      "text/plain": [
       "  0%|          | 0/1700 [00:00<?, ?it/s]"
      ]
     },
     "metadata": {},
     "output_type": "display_data"
    },
    {
     "data": {
      "application/vnd.jupyter.widget-view+json": {
       "model_id": "0096699dc1604b3b9c40811edbd15929",
       "version_major": 2,
       "version_minor": 0
      },
      "text/plain": [
       "  0%|          | 0/116 [00:00<?, ?it/s]"
      ]
     },
     "metadata": {},
     "output_type": "display_data"
    },
    {
     "name": "stderr",
     "output_type": "stream",
     "text": [
      "[I 2025-02-28 02:15:41,215] Trial 9 pruned. \n"
     ]
    },
    {
     "name": "stdout",
     "output_type": "stream",
     "text": [
      "{'eval_loss': 0.06508862972259521, 'eval_precision': 0.8417874396135265, 'eval_recall': 0.8302561048243002, 'eval_f1': 0.8359820089955022, 'eval_runtime': 7.6586, 'eval_samples_per_second': 120.649, 'eval_steps_per_second': 15.146, 'epoch': 1.0}\n",
      "Best hyperparameters found: {'learning_rate': 1.760620753686517e-05, 'per_device_train_batch_size': 32, 'weight_decay': 0.19699215948964255}\n"
     ]
    }
   ],
   "source": [
    "def model_init():\n",
    "    # This function is used to reinitialize your model for each trial.\n",
    "    return AutoModelForTokenClassification.from_pretrained(model_name, num_labels=num_labels)\n",
    "\n",
    "def hp_space(trial):\n",
    "    return {\n",
    "        \"learning_rate\": trial.suggest_float(\"learning_rate\", 1e-5, 5e-5, log=True),\n",
    "        \"per_device_train_batch_size\": trial.suggest_categorical(\"per_device_train_batch_size\", [8, 16, 32]),\n",
    "        \"weight_decay\": trial.suggest_float(\"weight_decay\", 0.0, 0.3),\n",
    "    }\n",
    "\n",
    "# Create a new Trainer instance for hyperparameter search\n",
    "trainer = Trainer(\n",
    "    model_init=model_init,\n",
    "    args=training_args,  # You can set a base TrainingArguments here (consider reducing num_train_epochs)\n",
    "    train_dataset=tokenized_datasets[\"train\"],\n",
    "    eval_dataset=tokenized_datasets[\"validation\"],\n",
    "    tokenizer=tokenizer,\n",
    "    compute_metrics=compute_metrics \n",
    "\n",
    "# Run the hyperparameter search\n",
    "best_run = trainer.hyperparameter_search(\n",
    "    direction=\"minimize\",   # if you're using eval_loss; change to \"maximize\" if using F1, for example\n",
    "    hp_space=hp_space,\n",
    "    backend=\"optuna\",\n",
    "    n_trials=10,            # Increase this number for a more thorough search\n",
    ")\n",
    "\n",
    "print(\"Best hyperparameters found:\", best_run.hyperparameters)"
   ]
  },
  {
   "cell_type": "code",
   "execution_count": 26,
   "metadata": {},
   "outputs": [],
   "source": [
    "mlflow.end_run()"
   ]
  },
  {
   "cell_type": "code",
   "execution_count": 27,
   "metadata": {},
   "outputs": [
    {
     "name": "stderr",
     "output_type": "stream",
     "text": [
      "/Library/Frameworks/Python.framework/Versions/3.11/lib/python3.11/site-packages/transformers/training_args.py:1545: FutureWarning: `evaluation_strategy` is deprecated and will be removed in version 4.46 of 🤗 Transformers. Use `eval_strategy` instead\n",
      "  warnings.warn(\n",
      "Some weights of BertForTokenClassification were not initialized from the model checkpoint at emilyalsentzer/Bio_ClinicalBERT and are newly initialized: ['classifier.bias', 'classifier.weight']\n",
      "You should probably TRAIN this model on a down-stream task to be able to use it for predictions and inference.\n"
     ]
    },
    {
     "data": {
      "application/vnd.jupyter.widget-view+json": {
       "model_id": "d89e7d083e294598808b750a4a742a10",
       "version_major": 2,
       "version_minor": 0
      },
      "text/plain": [
       "  0%|          | 0/850 [00:00<?, ?it/s]"
      ]
     },
     "metadata": {},
     "output_type": "display_data"
    },
    {
     "data": {
      "application/vnd.jupyter.widget-view+json": {
       "model_id": "7069544663ad4706bf29ff85aba4837a",
       "version_major": 2,
       "version_minor": 0
      },
      "text/plain": [
       "  0%|          | 0/116 [00:00<?, ?it/s]"
      ]
     },
     "metadata": {},
     "output_type": "display_data"
    },
    {
     "name": "stdout",
     "output_type": "stream",
     "text": [
      "{'eval_loss': 0.07375098019838333, 'eval_precision': 0.7448313384113167, 'eval_recall': 0.8153662894580107, 'eval_f1': 0.7785044071651976, 'eval_runtime': 7.8166, 'eval_samples_per_second': 118.21, 'eval_steps_per_second': 14.84, 'epoch': 1.0}\n"
     ]
    },
    {
     "data": {
      "application/vnd.jupyter.widget-view+json": {
       "model_id": "89e86bd7a65e471b920aa401bab7e3d2",
       "version_major": 2,
       "version_minor": 0
      },
      "text/plain": [
       "  0%|          | 0/116 [00:00<?, ?it/s]"
      ]
     },
     "metadata": {},
     "output_type": "display_data"
    },
    {
     "name": "stdout",
     "output_type": "stream",
     "text": [
      "{'eval_loss': 0.0658111423254013, 'eval_precision': 0.7988338192419825, 'eval_recall': 0.8159618820726623, 'eval_f1': 0.807307012374779, 'eval_runtime': 7.6843, 'eval_samples_per_second': 120.246, 'eval_steps_per_second': 15.096, 'epoch': 2.0}\n",
      "{'loss': 0.0931, 'grad_norm': 1.306370496749878, 'learning_rate': 7.249614868120951e-06, 'epoch': 2.94}\n"
     ]
    },
    {
     "data": {
      "application/vnd.jupyter.widget-view+json": {
       "model_id": "99399b54303d4b4cbac566f8b872247f",
       "version_major": 2,
       "version_minor": 0
      },
      "text/plain": [
       "  0%|          | 0/116 [00:00<?, ?it/s]"
      ]
     },
     "metadata": {},
     "output_type": "display_data"
    },
    {
     "name": "stdout",
     "output_type": "stream",
     "text": [
      "{'eval_loss': 0.06892029196023941, 'eval_precision': 0.8230547550432277, 'eval_recall': 0.8505062537224538, 'eval_f1': 0.8365553602811951, 'eval_runtime': 7.7152, 'eval_samples_per_second': 119.763, 'eval_steps_per_second': 15.035, 'epoch': 3.0}\n",
      "{'train_runtime': 491.0387, 'train_samples_per_second': 55.322, 'train_steps_per_second': 1.731, 'train_loss': 0.09197507985666686, 'epoch': 3.0}\n",
      "Final training complete.\n",
      "Final training loss: 0.09197507985666686\n"
     ]
    },
    {
     "data": {
      "application/vnd.jupyter.widget-view+json": {
       "model_id": "ba46358b683a499c9f40c9faa022d462",
       "version_major": 2,
       "version_minor": 0
      },
      "text/plain": [
       "  0%|          | 0/116 [00:00<?, ?it/s]"
      ]
     },
     "metadata": {},
     "output_type": "display_data"
    },
    {
     "name": "stdout",
     "output_type": "stream",
     "text": [
      "Final evaluation metrics: {'eval_loss': 0.0658111423254013, 'eval_precision': 0.7988338192419825, 'eval_recall': 0.8159618820726623, 'eval_f1': 0.807307012374779, 'eval_runtime': 7.8619, 'eval_samples_per_second': 117.529, 'eval_steps_per_second': 14.755, 'epoch': 3.0}\n"
     ]
    },
    {
     "data": {
      "application/vnd.jupyter.widget-view+json": {
       "model_id": "e4b2528623654c5eacb50a9cd2ba47a2",
       "version_major": 2,
       "version_minor": 0
      },
      "text/plain": [
       "  0%|          | 0/116 [00:00<?, ?it/s]"
      ]
     },
     "metadata": {},
     "output_type": "display_data"
    },
    {
     "name": "stdout",
     "output_type": "stream",
     "text": [
      "Detailed Classification Report:\n",
      "               precision    recall  f1-score   support\n",
      "\n",
      "     Disease       0.80      0.82      0.81      1679\n",
      "\n",
      "   micro avg       0.80      0.82      0.81      1679\n",
      "   macro avg       0.80      0.82      0.81      1679\n",
      "weighted avg       0.80      0.82      0.81      1679\n",
      "\n"
     ]
    }
   ],
   "source": [
    "# Start an MLflow run for final training\n",
    "mlflow.start_run(run_name=\"NER_Final_Training\")\n",
    "\n",
    "# Extract best hyperparameters from your hyperparameter search (best_run is assumed to be available)\n",
    "best_hparams = best_run.hyperparameters\n",
    "\n",
    "# Create new TrainingArguments with the best hyperparameters\n",
    "final_training_args = TrainingArguments(\n",
    "    output_dir=\"./final_results\",\n",
    "    num_train_epochs=5,  # Final training for 5 epochs\n",
    "    per_device_train_batch_size=best_hparams[\"per_device_train_batch_size\"],\n",
    "    learning_rate=best_hparams[\"learning_rate\"],\n",
    "    weight_decay=best_hparams[\"weight_decay\"],\n",
    "    evaluation_strategy=\"epoch\",\n",
    "    logging_dir=\"./final_logs\",\n",
    "    save_strategy=\"epoch\",\n",
    "    load_best_model_at_end=True,\n",
    "    metric_for_best_model=\"eval_loss\",  # Using eval_loss; change if you prefer F1, etc.\n",
    "    greater_is_better=False,           # Set to False because lower eval_loss is better\n",
    "    report_to=\"none\"                   # Change this if you want to log to other systems\n",
    ")\n",
    "\n",
    "# Log the best hyperparameters to MLflow\n",
    "for param, value in best_hparams.items():\n",
    "    mlflow.log_param(f\"final_{param}\", value)\n",
    "mlflow.log_param(\"final_num_train_epochs\", final_training_args.num_train_epochs)\n",
    "\n",
    "# Reinitialize the model with your ClinicalBERT model and the correct number of labels\n",
    "final_model = AutoModelForTokenClassification.from_pretrained(model_name, num_labels=num_labels)\n",
    "device = torch.device(\"mps\" if torch.backends.mps.is_available() else \"cpu\")\n",
    "final_model.to(device)\n",
    "\n",
    "# Create the final Trainer with early stopping and MLflow logging integrated\n",
    "final_trainer = Trainer(\n",
    "    model=final_model,\n",
    "    args=final_training_args,\n",
    "    train_dataset=tokenized_datasets[\"train\"],\n",
    "    eval_dataset=tokenized_datasets[\"validation\"],\n",
    "    tokenizer=tokenizer,\n",
    "    compute_metrics=compute_metrics,\n",
    "    callbacks=[EarlyStoppingCallback(early_stopping_patience=1, early_stopping_threshold=0.0)]\n",
    ")\n",
    "\n",
    "# Start final training\n",
    "final_train_output = final_trainer.train()\n",
    "print(\"Final training complete.\")\n",
    "print(\"Final training loss:\", final_train_output.training_loss)\n",
    "mlflow.log_metric(\"final_train_loss\", final_train_output.training_loss)\n",
    "\n",
    "# Evaluate on the validation set\n",
    "final_eval_metrics = final_trainer.evaluate()\n",
    "print(\"Final evaluation metrics:\", final_eval_metrics)\n",
    "for metric_name, metric_value in final_eval_metrics.items():\n",
    "    mlflow.log_metric(f\"final_{metric_name}\", metric_value)\n",
    "\n",
    "# Generate a detailed classification report on the validation set\n",
    "predictions, labels, _ = final_trainer.predict(tokenized_datasets[\"validation\"])\n",
    "preds_list, refs_list = align_predictions(predictions, labels)\n",
    "from seqeval.metrics import classification_report\n",
    "report = classification_report(refs_list, preds_list)\n",
    "print(\"Detailed Classification Report:\\n\", report)\n",
    "mlflow.log_text(report, \"final_classification_report.txt\")\n",
    "\n",
    "# End the MLflow run\n",
    "mlflow.end_run()\n"
   ]
  },
  {
   "cell_type": "markdown",
   "metadata": {},
   "source": [
    "Looks like the search space for the hyperparameters needed to be wider to find the most optimal fit, but due to compute restraints we'll keep the original model with early stoppage as the best model for this project "
   ]
  }
 ],
 "metadata": {
  "kernelspec": {
   "display_name": "Python 3",
   "language": "python",
   "name": "python3"
  },
  "language_info": {
   "codemirror_mode": {
    "name": "ipython",
    "version": 3
   },
   "file_extension": ".py",
   "mimetype": "text/x-python",
   "name": "python",
   "nbconvert_exporter": "python",
   "pygments_lexer": "ipython3",
   "version": "3.11.4"
  }
 },
 "nbformat": 4,
 "nbformat_minor": 2
}
